{
 "cells": [
  {
   "cell_type": "markdown",
   "metadata": {},
   "source": [
    "# Spatial Data Processing with PySAL & Pandas\n"
   ]
  },
  {
   "cell_type": "code",
   "execution_count": 4,
   "metadata": {
    "collapsed": true
   },
   "outputs": [],
   "source": [
    "#by convention, we use these shorter two-letter names\n",
    "import pysal as ps\n",
    "import pandas as pd\n",
    "import numpy as np"
   ]
  },
  {
   "cell_type": "markdown",
   "metadata": {},
   "source": [
    "PySAL has simple way to read in data. But, first, you need to get the path from where your notebook is running on your computer to the place the data is. For example, to find where the notebook is running:\n",
    "\n",
    "In this we process the pakistan district shapefile having attribute data of population of 1981 and 1998, also some more infromation i.e. Male Female ratio, population density etc."
   ]
  },
  {
   "cell_type": "code",
   "execution_count": 9,
   "metadata": {},
   "outputs": [
    {
     "name": "stdout",
     "output_type": "stream",
     "text": [
      "C:\\Users\\HAMMA\\Desktop\\gdp project\\2012-2015\n"
     ]
    }
   ],
   "source": [
    "cd C:\\Users\\HAMMA\\Desktop\\gdp project\\2012-2015"
   ]
  },
  {
   "cell_type": "markdown",
   "metadata": {},
   "source": [
    "### Working with shapefiles"
   ]
  },
  {
   "cell_type": "markdown",
   "metadata": {},
   "source": [
    "We can work with local files, to read in a shapefile, we will need the path to the file."
   ]
  },
  {
   "cell_type": "code",
   "execution_count": 42,
   "metadata": {},
   "outputs": [
    {
     "name": "stdout",
     "output_type": "stream",
     "text": [
      "C:\\Users\\HAMMA\\Desktop\\gdp project\\2012-2015\\pak_dist4.shp\n"
     ]
    }
   ],
   "source": [
    "shp_path = r\"C:\\Users\\HAMMA\\Desktop\\gdp project\\2012-2015\\pak_dist4.shp\"\n",
    "print(shp_path)"
   ]
  },
  {
   "cell_type": "markdown",
   "metadata": {},
   "source": [
    "Then, we open the file using the `ps.open` command:"
   ]
  },
  {
   "cell_type": "code",
   "execution_count": 43,
   "metadata": {},
   "outputs": [],
   "source": [
    "f = ps.open(shp_path)"
   ]
  },
  {
   "cell_type": "markdown",
   "metadata": {},
   "source": [
    "`f` is what we call a \"file handle.\" That means that it only *points* to the data and provides ways to work with it. By itself, it does not read the whole dataset into memory. To see basic information about the file, we can use a few different methods. \n",
    "\n",
    "For instance, the header of the file, which contains most of the metadata about the file:"
   ]
  },
  {
   "cell_type": "code",
   "execution_count": 44,
   "metadata": {},
   "outputs": [
    {
     "data": {
      "text/plain": [
       "{'BBOX Mmax': 0.0,\n",
       " 'BBOX Mmin': 0.0,\n",
       " 'BBOX Xmax': 75.36699676513683,\n",
       " 'BBOX Xmin': 60.89943695068354,\n",
       " 'BBOX Ymax': 36.889804840088004,\n",
       " 'BBOX Ymin': 23.702915191650447,\n",
       " 'BBOX Zmax': 0.0,\n",
       " 'BBOX Zmin': 0.0,\n",
       " 'File Code': 9994,\n",
       " 'File Length': 969710,\n",
       " 'Shape Type': 5,\n",
       " 'Unused0': 0,\n",
       " 'Unused1': 0,\n",
       " 'Unused2': 0,\n",
       " 'Unused3': 0,\n",
       " 'Unused4': 0,\n",
       " 'Version': 1000}"
      ]
     },
     "execution_count": 44,
     "metadata": {},
     "output_type": "execute_result"
    }
   ],
   "source": [
    "f.header"
   ]
  },
  {
   "cell_type": "markdown",
   "metadata": {},
   "source": [
    "To actually read in the shapes from memory, you can use the following commands:"
   ]
  },
  {
   "cell_type": "code",
   "execution_count": 45,
   "metadata": {},
   "outputs": [
    {
     "data": {
      "text/plain": [
       "<pysal.cg.shapes.Polygon at 0xca37fd0>"
      ]
     },
     "execution_count": 45,
     "metadata": {},
     "output_type": "execute_result"
    }
   ],
   "source": [
    "f.by_row(14) #gets the 14th shape from the file"
   ]
  },
  {
   "cell_type": "code",
   "execution_count": 46,
   "metadata": {
    "collapsed": true
   },
   "outputs": [],
   "source": [
    "all_polygons = f.read() #reads in all polygons from memory"
   ]
  },
  {
   "cell_type": "code",
   "execution_count": 47,
   "metadata": {},
   "outputs": [
    {
     "data": {
      "text/plain": [
       "107"
      ]
     },
     "execution_count": 47,
     "metadata": {},
     "output_type": "execute_result"
    }
   ],
   "source": [
    "len(all_polygons)"
   ]
  },
  {
   "cell_type": "markdown",
   "metadata": {},
   "source": [
    "So, all 107 polygons have been read in from file.\n",
    "           \n",
    "           \"This is not the full pakistan shape file because it is the old data of population, which doen't have all district information of present time\"\n",
    "\n",
    "These are stored in PySAL shape objects, which can be used by PySAL and can be converted to other Python shape objects.\n",
    "They typically have a few methods. So, since we've read in polygonal data, we can get some properties about the polygons. Let's just have a look at the first polygon:"
   ]
  },
  {
   "cell_type": "code",
   "execution_count": 48,
   "metadata": {},
   "outputs": [
    {
     "data": {
      "text/plain": [
       "[<pysal.cg.shapes.Polygon at 0xca37cc0>,\n",
       " <pysal.cg.shapes.Polygon at 0xca37f28>,\n",
       " <pysal.cg.shapes.Polygon at 0xca37e10>,\n",
       " <pysal.cg.shapes.Polygon at 0xca379e8>,\n",
       " <pysal.cg.shapes.Polygon at 0x89b1f28>]"
      ]
     },
     "execution_count": 48,
     "metadata": {},
     "output_type": "execute_result"
    }
   ],
   "source": [
    "all_polygons[0:5]"
   ]
  },
  {
   "cell_type": "code",
   "execution_count": 49,
   "metadata": {},
   "outputs": [
    {
     "data": {
      "text/plain": [
       "(65.35974546861902, 26.265346073984496)"
      ]
     },
     "execution_count": 49,
     "metadata": {},
     "output_type": "execute_result"
    }
   ],
   "source": [
    "all_polygons[0].centroid #the centroid of the first polygon"
   ]
  },
  {
   "cell_type": "code",
   "execution_count": 50,
   "metadata": {},
   "outputs": [
    {
     "data": {
      "text/plain": [
       "2.045215825215557"
      ]
     },
     "execution_count": 50,
     "metadata": {},
     "output_type": "execute_result"
    }
   ],
   "source": [
    "all_polygons[0].area"
   ]
  },
  {
   "cell_type": "code",
   "execution_count": 51,
   "metadata": {},
   "outputs": [
    {
     "data": {
      "text/plain": [
       "8.063774483083392"
      ]
     },
     "execution_count": 51,
     "metadata": {},
     "output_type": "execute_result"
    }
   ],
   "source": [
    "all_polygons[0].perimeter"
   ]
  },
  {
   "cell_type": "markdown",
   "metadata": {},
   "source": [
    "While in the Jupyter Notebook, you can examine what properties an object has by using the tab key."
   ]
  },
  {
   "cell_type": "code",
   "execution_count": 52,
   "metadata": {
    "collapsed": true
   },
   "outputs": [],
   "source": [
    "polygon = all_polygons[0]"
   ]
  },
  {
   "cell_type": "code",
   "execution_count": 53,
   "metadata": {},
   "outputs": [
    {
     "data": {
      "text/plain": [
       "2.045215825215557"
      ]
     },
     "execution_count": 53,
     "metadata": {},
     "output_type": "execute_result"
    }
   ],
   "source": [
    "polygon.area #press tab when the cursor is right after the dot"
   ]
  },
  {
   "cell_type": "markdown",
   "metadata": {},
   "source": [
    "### Working with Data Tables"
   ]
  },
  {
   "cell_type": "code",
   "execution_count": 54,
   "metadata": {},
   "outputs": [
    {
     "name": "stdout",
     "output_type": "stream",
     "text": [
      "C:\\Users\\HAMMA\\Desktop\\gdp project\\2012-2015\\pak_dist4.dbf\n"
     ]
    }
   ],
   "source": [
    "dbf_path = r\"C:\\Users\\HAMMA\\Desktop\\gdp project\\2012-2015\\pak_dist4.dbf\"\n",
    "print(dbf_path)"
   ]
  },
  {
   "cell_type": "markdown",
   "metadata": {},
   "source": [
    "When you're working with tables of data, like a `csv` or `dbf`, you can extract your data in the following way. Let's open the dbf file we got the path for above."
   ]
  },
  {
   "cell_type": "code",
   "execution_count": 55,
   "metadata": {
    "collapsed": true
   },
   "outputs": [],
   "source": [
    "f = ps.open(dbf_path)"
   ]
  },
  {
   "cell_type": "markdown",
   "metadata": {},
   "source": [
    "Just like with the shapefile, we can examine the header of the dbf file."
   ]
  },
  {
   "cell_type": "code",
   "execution_count": 56,
   "metadata": {},
   "outputs": [
    {
     "data": {
      "text/plain": [
       "[u'ISO',\n",
       " u'NAME_1',\n",
       " u'NAME_2',\n",
       " u'NAME_3',\n",
       " u'OBJECTID',\n",
       " u'Area',\n",
       " u'F1981__pop',\n",
       " u'F1998__pop',\n",
       " u'Male',\n",
       " u'Female',\n",
       " u'Sex_ratio',\n",
       " u'Pop_Sq_Km',\n",
       " u'Ave_H_Hol_',\n",
       " u'F1981_98_G',\n",
       " u'OID_',\n",
       " u'OBJECTID_1',\n",
       " u'DIST_NAME',\n",
       " u'Area_1',\n",
       " u'F1981__p_1',\n",
       " u'F1998__p_1',\n",
       " u'Male_1',\n",
       " u'Female_1',\n",
       " u'Sex_rati_1',\n",
       " u'Pop_Sq_K_1',\n",
       " u'Ave_H_Hol1',\n",
       " u'F1981_98_1']"
      ]
     },
     "execution_count": 56,
     "metadata": {},
     "output_type": "execute_result"
    }
   ],
   "source": [
    "f.header"
   ]
  },
  {
   "cell_type": "markdown",
   "metadata": {},
   "source": [
    "So, the header is a list containing the names of all of the fields we can read.\n",
    "If we just wanted to grab the data of interest, `F1998__pop`, we can use either `by_col` or `by_col_array`, depending on the format we want the resulting data in:"
   ]
  },
  {
   "cell_type": "code",
   "execution_count": 57,
   "metadata": {},
   "outputs": [
    {
     "name": "stdout",
     "output_type": "stream",
     "text": [
      "('list', [25648, 155488, 225028, 58868, 129412, 108736, 196330, 412064, 97316, 97332, 17304, 54365])\n",
      "('ndarray', array([[ 25648],\n",
      "       [155488],\n",
      "       [225028],\n",
      "       [ 58868],\n",
      "       [129412],\n",
      "       [108736],\n",
      "       [196330],\n",
      "       [412064],\n",
      "       [ 97316],\n",
      "       [ 97332],\n",
      "       [ 17304],\n",
      "       [ 54365]]))\n"
     ]
    }
   ],
   "source": [
    "pop1998 = f.by_col('F1998__pop')\n",
    "print(type(pop1998).__name__, pop1998[8:20])\n",
    "pop1998 = f.by_col_array('F1998__pop')\n",
    "print(type(pop1998).__name__, pop1998[8:20])"
   ]
  },
  {
   "cell_type": "markdown",
   "metadata": {},
   "source": [
    "As you can see, the `by_col` function returns a list of data, with no shape. It can only return one column at a time:"
   ]
  },
  {
   "cell_type": "code",
   "execution_count": 58,
   "metadata": {},
   "outputs": [
    {
     "ename": "TypeError",
     "evalue": "__call__() takes exactly 2 arguments (3 given)",
     "output_type": "error",
     "traceback": [
      "\u001b[1;31m---------------------------------------------------------------------------\u001b[0m",
      "\u001b[1;31mTypeError\u001b[0m                                 Traceback (most recent call last)",
      "\u001b[1;32m<ipython-input-58-576690be3506>\u001b[0m in \u001b[0;36m<module>\u001b[1;34m()\u001b[0m\n\u001b[1;32m----> 1\u001b[1;33m \u001b[0mHRs\u001b[0m \u001b[1;33m=\u001b[0m \u001b[0mf\u001b[0m\u001b[1;33m.\u001b[0m\u001b[0mby_col\u001b[0m\u001b[1;33m(\u001b[0m\u001b[1;34m'F1981__pop'\u001b[0m\u001b[1;33m,\u001b[0m\u001b[1;34m'F1998__pop'\u001b[0m\u001b[1;33m)\u001b[0m\u001b[1;33m\u001b[0m\u001b[0m\n\u001b[0m",
      "\u001b[1;31mTypeError\u001b[0m: __call__() takes exactly 2 arguments (3 given)"
     ]
    }
   ],
   "source": [
    "HRs = f.by_col('F1981__pop','F1998__pop')"
   ]
  },
  {
   "cell_type": "markdown",
   "metadata": {},
   "source": [
    "This error message is called a \"traceback,\" as you see in the top right, and it usually provides feedback on why the previous command did not execute correctly. Here, you see that one-too-many arguments was provided to `__call__`, which tells us we cannot pass as many arguments as we did to `by_col`.\n",
    "\n",
    "If you want to read in many columns at once and store them to an array, use `by_col_array`:"
   ]
  },
  {
   "cell_type": "code",
   "execution_count": 59,
   "metadata": {
    "collapsed": true
   },
   "outputs": [],
   "source": [
    "HRs = f.by_col_array('F1981__pop','F1998__pop')"
   ]
  },
  {
   "cell_type": "code",
   "execution_count": 60,
   "metadata": {},
   "outputs": [
    {
     "data": {
      "text/plain": [
       "array([[234051,  25648],\n",
       "       [288056, 155488],\n",
       "       [432817, 225028],\n",
       "       [109941,  58868],\n",
       "       [245894, 129412],\n",
       "       [202564, 108736],\n",
       "       [367183, 196330],\n",
       "       [759941, 412064],\n",
       "       [181310,  97316],\n",
       "       [180398,  97332]])"
      ]
     },
     "execution_count": 60,
     "metadata": {},
     "output_type": "execute_result"
    }
   ],
   "source": [
    "HRs[8:18]"
   ]
  },
  {
   "cell_type": "markdown",
   "metadata": {},
   "source": [
    "It is best to use `by_col_array` on data of a single type. That is, if you read in a lot of columns, some of them numbers and some of them strings, all columns will get converted to the same datatype:"
   ]
  },
  {
   "cell_type": "code",
   "execution_count": 61,
   "metadata": {
    "collapsed": true
   },
   "outputs": [],
   "source": [
    "allcolumns = f.by_col_array(['NAME_2','NAME_3','F1981__pop','F1998__pop'])"
   ]
  },
  {
   "cell_type": "code",
   "execution_count": 62,
   "metadata": {},
   "outputs": [
    {
     "data": {
      "text/plain": [
       "array([[u'Kalat', u'Awaran', u'118173', u'62114'],\n",
       "       [u'Kalat', u'Kalat', u'1457722', u'767137'],\n",
       "       [u'Kalat', u'Kharan', u'206909', u'107261'],\n",
       "       [u'Kalat', u'Khuzdar', u'417466', u'220023'],\n",
       "       [u'Kalat', u'Lasbela', u'312695', u'167470'],\n",
       "       [u'Kalat', u'Mastung', u'164645', u'87334'],\n",
       "       [u'Makran', u'Gwadar', u'185498', u'99436'],\n",
       "       [u'Makran', u'Kech', u'413204', u'216566'],\n",
       "       [u'Makran', u'Panjgur', u'234051', u'25648'],\n",
       "       [u'Nasirabad', u'Bolan', u'288056', u'155488'],\n",
       "       [u'Nasirabad', u'Jafarabad', u'432817', u'225028'],\n",
       "       [u'Nasirabad', u'Jhal Magsi', u'109941', u'58868'],\n",
       "       [u'Nasirabad', u'Nasirabad', u'245894', u'129412'],\n",
       "       [u'Quetta', u'Chagai', u'202564', u'108736'],\n",
       "       [u'Quetta', u'Pishin', u'367183', u'196330'],\n",
       "       [u'Quetta', u'Quetta', u'759941', u'412064'],\n",
       "       [u'Sibi', u'Dera Bugti', u'181310', u'97316'],\n",
       "       [u'Sibi', u'Sibi', u'180398', u'97332'],\n",
       "       [u'Sibi', u'Ziarat', u'33340', u'17304'],\n",
       "       [u'Zhob', u'Barkhan', u'103545', u'54365'],\n",
       "       [u'Zhob', u'Loralai', u'297555', u'158168'],\n",
       "       [u'Zhob', u'Musakhel', u'134056', u'74139'],\n",
       "       [u'Zhob', u'Zhob', u'275142', u'149787'],\n",
       "       [u'F.A.T.A.', u'Bajaur', u'595227', u'305137'],\n",
       "       [u'F.A.T.A.', u'Khyber', u'546730', u'284602'],\n",
       "       [u'F.A.T.A.', u'Kurram', u'448310', u'229634'],\n",
       "       [u'F.A.T.A.', u'Mohmand', u'334453', u'175404'],\n",
       "       [u'F.A.T.A.', u'N. Waziristan', u'361246', u'192432'],\n",
       "       [u'F.A.T.A.', u'Orakzai', u'225441', u'112766'],\n",
       "       [u'F.A.T.A.', u'S. Waziristan', u'429841', u'231080'],\n",
       "       [u'Bannu', u'Bannu', u'422027', u'675667'],\n",
       "       [u'Bannu', u'Lakki Marwat', u'288759', u'490025'],\n",
       "       [u'Dera Ismail Khan', u'Dera Ismail Khan', u'494432', u'852995'],\n",
       "       [u'Dera Ismail Khan', u'Tank', u'141062', u'238216'],\n",
       "       [u'Hazara', u'Abbottabad', u'647635', u'880666'],\n",
       "       [u'Hazara', u'Battagram', u'339119', u'307278'],\n",
       "       [u'Hazara', u'Haripur', u'479031', u'692228'],\n",
       "       [u'Hazara', u'Kohistan', u'465237', u'472570'],\n",
       "       [u'Hazara', u'Mansehra', u'770235', u'1152839'],\n",
       "       [u'Kohat', u'Hangu', u'182474', u'314529'],\n",
       "       [u'Kohat', u'Karak', u'249681', u'430796'],\n",
       "       [u'Kohat', u'Kohat', u'326617', u'562644'],\n",
       "       [u'Malakand', u'Chitral', u'208560', u'318689'],\n",
       "       [u'Malakand', u'Malakand P.A.', u'452291', u'257797'],\n",
       "       [u'Malakand', u'Shangla', u'251546', u'434563'],\n",
       "       [u'Malakand', u'Swat', u'715938', u'1257602'],\n",
       "       [u'Mardan', u'Buner', u'265517', u'506048'],\n",
       "       [u'Mardan', u'Mardan', u'881465', u'1460100'],\n",
       "       [u'Mardan', u'Swabi', u'625035', u'1026804'],\n",
       "       [u'Peshawar', u'Charsadda', u'630811', u'1022364'],\n",
       "       [u'Peshawar', u'Nowshera', u'537638', u'874373'],\n",
       "       [u'Peshawar', u'Peshawar', u'1113303', u'2026851'],\n",
       "       [u'Northern Areas', u'Kupwara (Gilgit Wazarat)', u'99846', u'54884'],\n",
       "       [u'Bahawalpur', u'Bahawalnagar', u'2061447', u'1067411'],\n",
       "       [u'Bahawalpur', u'Bahawalpur', u'2433091', u'1278775'],\n",
       "       [u'Bahawalpur', u'Rahimyar Khan', u'3141053', u'1636864'],\n",
       "       [u'Dera Ghazi Khan', u'Dera Ghazi Kha', u'1643118', u'853782'],\n",
       "       [u'Dera Ghazi Khan', u'Layyah', u'1120951', u'579009'],\n",
       "       [u'Dera Ghazi Khan', u'Muzaffargarh', u'2635903', u'1373036'],\n",
       "       [u'Dera Ghazi Khan', u'Rajan Pur', u'1103618', u'580822'],\n",
       "       [u'Faisalabad', u'Faisalabad', u'5429547', u'2826908'],\n",
       "       [u'Faisalabad', u'Jhang', u'2834545', u'1478009'],\n",
       "       [u'Faisalabad', u'Toba Tek Singh', u'1621593', u'831602'],\n",
       "       [u'Gujranwala', u'Gujranwala 1', u'3400940', u'1770255'],\n",
       "       [u'Gujranwala', u'Gujrat', u'2048008', u'1026256'],\n",
       "       [u'Gujranwala', u'Hafizabad', u'832980', u'433320'],\n",
       "       [u'Gujranwala', u'Narowal 1', u'1265097', u'636217'],\n",
       "       [u'Gujranwala', u'Sialkot', u'2723481', u'1396532'],\n",
       "       [u'Lahore', u'Kasur', u'2375875', u'1243818'],\n",
       "       [u'Lahore', u'Lahore', u'6318745', u'3328502'],\n",
       "       [u'Lahore', u'Okara', u'2232992', u'1167481'],\n",
       "       [u'Lahore', u'Sheikhupura', u'3321029', u'1729082'],\n",
       "       [u'Multan', u'Khanewal', u'2068490', u'1072492'],\n",
       "       [u'Multan', u'Lodhran', u'1171800', u'609202'],\n",
       "       [u'Multan', u'Multan', u'3116851', u'1635768'],\n",
       "       [u'Multan', u'Pakpattan', u'1286680', u'668164'],\n",
       "       [u'Multan', u'Sahiwal', u'1843194', u'953561'],\n",
       "       [u'Multan', u'Vehari', u'2090416', u'1083812'],\n",
       "       [u'Rawalpindi', u'Attok', u'1274935', u'636338'],\n",
       "       [u'Rawalpindi', u'Chakwal', u'1083725', u'518249'],\n",
       "       [u'Rawalpindi', u'Jhelum', u'936957', u'468112'],\n",
       "       [u'Rawalpindi', u'Rawalpindi', u'3363911', u'1722477'],\n",
       "       [u'Sargodha', u'Bhakkar', u'1051456', u'543661'],\n",
       "       [u'Sargodha', u'Khushab', u'905711', u'451439'],\n",
       "       [u'Sargodha', u'Mianwali', u'1056620', u'530311'],\n",
       "       [u'Sargodha', u'Sargodha', u'2665979', u'1372883'],\n",
       "       [u'Hyderabad', u'Badin', u'1136044', u'597573'],\n",
       "       [u'Hyderabad', u'Dadu', u'1688811', u'887061'],\n",
       "       [u'Hyderabad', u'Hyderabad', u'2891488', u'1511025'],\n",
       "       [u'Hyderabad', u'Tando M. Khan', u'914291', u'499859'],\n",
       "       [u'Hyderabad', u'Thatta', u'1113194', u'589341'],\n",
       "       [u'Karachi', u'Karachi Central', u'1200536', u'2277931'],\n",
       "       [u'Karachi', u'Karachi East', u'2746014', u'1464360'],\n",
       "       [u'Karachi', u'Karachi South', u'1745038', u'943365'],\n",
       "       [u'Karachi', u'Karachi west', u'2105923', u'1149200'],\n",
       "       [u'Karachi', u'Malir', u'981412', u'548645'],\n",
       "       [u'Larkana', u'Jakobabad', u'1425572', u'744014'],\n",
       "       [u'Larkana', u'Larkana', u'1927066', u'993576'],\n",
       "       [u'Larkana', u'Shikarpur', u'880438', u'456589'],\n",
       "       [u'Mirpur Khas', u'Mirphurkhas', u'905935', u'471096'],\n",
       "       [u'Mirpur Khas', u'Sanghar', u'1453028', u'762284'],\n",
       "       [u'Mirpur Khas', u'Umerkot', u'663095', u'349754'],\n",
       "       [u'Sukkur', u'Ghotki', u'970549', u'511363'],\n",
       "       [u'Sukkur', u'Khairpur', u'1546587', u'810448'],\n",
       "       [u'Sukkur', u'Naushahro Firoz', u'1087571', u'568574'],\n",
       "       [u'Sukkur', u'Nawab Shah', u'1071533', u'555677'],\n",
       "       [u'Sukkur', u'Sukkur', u'908373', u'483251']], \n",
       "      dtype='<U24')"
      ]
     },
     "execution_count": 62,
     "metadata": {},
     "output_type": "execute_result"
    }
   ],
   "source": [
    "allcolumns"
   ]
  },
  {
   "cell_type": "markdown",
   "metadata": {},
   "source": [
    "Note that the numerical columns, `NAME_2` & `NAME_3` etc are now considered strings, since they show up with the single tickmarks around them, like `'0.0'`."
   ]
  },
  {
   "cell_type": "markdown",
   "metadata": {},
   "source": [
    "### Using Pandas with PySAL"
   ]
  },
  {
   "cell_type": "markdown",
   "metadata": {},
   "source": [
    "A new functionality added to PySAL recently allows you to work with shapefile/dbf pairs using Pandas. This *optional* extension is only turned on if you have Pandas installed. The extension is the `ps.pdio` module:"
   ]
  },
  {
   "cell_type": "code",
   "execution_count": 64,
   "metadata": {},
   "outputs": [
    {
     "data": {
      "text/plain": [
       "<module 'pysal.contrib.pdio' from 'C:\\Users\\HAMMA\\Anaconda2\\lib\\site-packages\\pysal\\contrib\\pdio\\__init__.pyc'>"
      ]
     },
     "execution_count": 64,
     "metadata": {},
     "output_type": "execute_result"
    }
   ],
   "source": [
    "ps.pdio"
   ]
  },
  {
   "cell_type": "markdown",
   "metadata": {},
   "source": [
    "To use it, you can read in shapefile/dbf pairs using the `ps.pdio.read_files` command. "
   ]
  },
  {
   "cell_type": "code",
   "execution_count": 65,
   "metadata": {
    "collapsed": true
   },
   "outputs": [],
   "source": [
    "#shp_path = ps.examples.get_path('NAT.shp')\n",
    "data_table = ps.pdio.read_files(shp_path)"
   ]
  },
  {
   "cell_type": "markdown",
   "metadata": {},
   "source": [
    "This reads in *the entire database table* and adds a column to the end, called `geometry`, that stores the geometries read in from the shapefile. \n",
    "\n",
    "Now, you can work with it like a standard pandas dataframe."
   ]
  },
  {
   "cell_type": "code",
   "execution_count": 66,
   "metadata": {},
   "outputs": [
    {
     "data": {
      "text/html": [
       "<div>\n",
       "<style>\n",
       "    .dataframe thead tr:only-child th {\n",
       "        text-align: right;\n",
       "    }\n",
       "\n",
       "    .dataframe thead th {\n",
       "        text-align: left;\n",
       "    }\n",
       "\n",
       "    .dataframe tbody tr th {\n",
       "        vertical-align: top;\n",
       "    }\n",
       "</style>\n",
       "<table border=\"1\" class=\"dataframe\">\n",
       "  <thead>\n",
       "    <tr style=\"text-align: right;\">\n",
       "      <th></th>\n",
       "      <th>ISO</th>\n",
       "      <th>NAME_1</th>\n",
       "      <th>NAME_2</th>\n",
       "      <th>NAME_3</th>\n",
       "      <th>OBJECTID</th>\n",
       "      <th>Area</th>\n",
       "      <th>F1981__pop</th>\n",
       "      <th>F1998__pop</th>\n",
       "      <th>Male</th>\n",
       "      <th>Female</th>\n",
       "      <th>...</th>\n",
       "      <th>Area_1</th>\n",
       "      <th>F1981__p_1</th>\n",
       "      <th>F1998__p_1</th>\n",
       "      <th>Male_1</th>\n",
       "      <th>Female_1</th>\n",
       "      <th>Sex_rati_1</th>\n",
       "      <th>Pop_Sq_K_1</th>\n",
       "      <th>Ave_H_Hol1</th>\n",
       "      <th>F1981_98_1</th>\n",
       "      <th>geometry</th>\n",
       "    </tr>\n",
       "  </thead>\n",
       "  <tbody>\n",
       "    <tr>\n",
       "      <th>0</th>\n",
       "      <td>PAK</td>\n",
       "      <td>Baluchistan</td>\n",
       "      <td>Kalat</td>\n",
       "      <td>Awaran</td>\n",
       "      <td>3</td>\n",
       "      <td>29510</td>\n",
       "      <td>118173</td>\n",
       "      <td>62114</td>\n",
       "      <td>56059</td>\n",
       "      <td>110353</td>\n",
       "      <td>...</td>\n",
       "      <td>29510</td>\n",
       "      <td>118173</td>\n",
       "      <td>62114</td>\n",
       "      <td>56059</td>\n",
       "      <td>110353</td>\n",
       "      <td>110.8</td>\n",
       "      <td>4.0</td>\n",
       "      <td>5.4</td>\n",
       "      <td>0.40</td>\n",
       "      <td>&lt;pysal.cg.shapes.Polygon object at 0x000000000...</td>\n",
       "    </tr>\n",
       "    <tr>\n",
       "      <th>1</th>\n",
       "      <td>PAK</td>\n",
       "      <td>Baluchistan</td>\n",
       "      <td>Kalat</td>\n",
       "      <td>Kalat</td>\n",
       "      <td>36</td>\n",
       "      <td>140612</td>\n",
       "      <td>1457722</td>\n",
       "      <td>767137</td>\n",
       "      <td>690585</td>\n",
       "      <td>1044174</td>\n",
       "      <td>...</td>\n",
       "      <td>140612</td>\n",
       "      <td>1457722</td>\n",
       "      <td>767137</td>\n",
       "      <td>690585</td>\n",
       "      <td>1044174</td>\n",
       "      <td>111.1</td>\n",
       "      <td>10.4</td>\n",
       "      <td>6.0</td>\n",
       "      <td>1.98</td>\n",
       "      <td>&lt;pysal.cg.shapes.Polygon object at 0x000000000...</td>\n",
       "    </tr>\n",
       "    <tr>\n",
       "      <th>2</th>\n",
       "      <td>PAK</td>\n",
       "      <td>Baluchistan</td>\n",
       "      <td>Kalat</td>\n",
       "      <td>Kharan</td>\n",
       "      <td>46</td>\n",
       "      <td>48051</td>\n",
       "      <td>206909</td>\n",
       "      <td>107261</td>\n",
       "      <td>99648</td>\n",
       "      <td>128040</td>\n",
       "      <td>...</td>\n",
       "      <td>48051</td>\n",
       "      <td>206909</td>\n",
       "      <td>107261</td>\n",
       "      <td>99648</td>\n",
       "      <td>128040</td>\n",
       "      <td>107.6</td>\n",
       "      <td>4.3</td>\n",
       "      <td>5.8</td>\n",
       "      <td>2.86</td>\n",
       "      <td>&lt;pysal.cg.shapes.Polygon object at 0x000000000...</td>\n",
       "    </tr>\n",
       "    <tr>\n",
       "      <th>3</th>\n",
       "      <td>PAK</td>\n",
       "      <td>Baluchistan</td>\n",
       "      <td>Kalat</td>\n",
       "      <td>Khuzdar</td>\n",
       "      <td>48</td>\n",
       "      <td>35380</td>\n",
       "      <td>417466</td>\n",
       "      <td>220023</td>\n",
       "      <td>197443</td>\n",
       "      <td>276449</td>\n",
       "      <td>...</td>\n",
       "      <td>35380</td>\n",
       "      <td>417466</td>\n",
       "      <td>220023</td>\n",
       "      <td>197443</td>\n",
       "      <td>276449</td>\n",
       "      <td>111.4</td>\n",
       "      <td>11.8</td>\n",
       "      <td>5.4</td>\n",
       "      <td>2.45</td>\n",
       "      <td>&lt;pysal.cg.shapes.Polygon object at 0x000000000...</td>\n",
       "    </tr>\n",
       "    <tr>\n",
       "      <th>4</th>\n",
       "      <td>PAK</td>\n",
       "      <td>Baluchistan</td>\n",
       "      <td>Kalat</td>\n",
       "      <td>Lasbela</td>\n",
       "      <td>57</td>\n",
       "      <td>15153</td>\n",
       "      <td>312695</td>\n",
       "      <td>167470</td>\n",
       "      <td>145225</td>\n",
       "      <td>188139</td>\n",
       "      <td>...</td>\n",
       "      <td>15153</td>\n",
       "      <td>312695</td>\n",
       "      <td>167470</td>\n",
       "      <td>145225</td>\n",
       "      <td>188139</td>\n",
       "      <td>115.3</td>\n",
       "      <td>20.6</td>\n",
       "      <td>6.4</td>\n",
       "      <td>3.03</td>\n",
       "      <td>&lt;pysal.cg.shapes.Polygon object at 0x000000000...</td>\n",
       "    </tr>\n",
       "  </tbody>\n",
       "</table>\n",
       "<p>5 rows × 27 columns</p>\n",
       "</div>"
      ],
      "text/plain": [
       "   ISO       NAME_1 NAME_2   NAME_3  OBJECTID    Area  F1981__pop  F1998__pop  \\\n",
       "0  PAK  Baluchistan  Kalat   Awaran         3   29510      118173       62114   \n",
       "1  PAK  Baluchistan  Kalat    Kalat        36  140612     1457722      767137   \n",
       "2  PAK  Baluchistan  Kalat   Kharan        46   48051      206909      107261   \n",
       "3  PAK  Baluchistan  Kalat  Khuzdar        48   35380      417466      220023   \n",
       "4  PAK  Baluchistan  Kalat  Lasbela        57   15153      312695      167470   \n",
       "\n",
       "     Male   Female                        ...                          Area_1  \\\n",
       "0   56059   110353                        ...                           29510   \n",
       "1  690585  1044174                        ...                          140612   \n",
       "2   99648   128040                        ...                           48051   \n",
       "3  197443   276449                        ...                           35380   \n",
       "4  145225   188139                        ...                           15153   \n",
       "\n",
       "   F1981__p_1  F1998__p_1  Male_1  Female_1  Sex_rati_1 Pop_Sq_K_1  \\\n",
       "0      118173       62114   56059    110353       110.8        4.0   \n",
       "1     1457722      767137  690585   1044174       111.1       10.4   \n",
       "2      206909      107261   99648    128040       107.6        4.3   \n",
       "3      417466      220023  197443    276449       111.4       11.8   \n",
       "4      312695      167470  145225    188139       115.3       20.6   \n",
       "\n",
       "   Ave_H_Hol1  F1981_98_1                                           geometry  \n",
       "0         5.4        0.40  <pysal.cg.shapes.Polygon object at 0x000000000...  \n",
       "1         6.0        1.98  <pysal.cg.shapes.Polygon object at 0x000000000...  \n",
       "2         5.8        2.86  <pysal.cg.shapes.Polygon object at 0x000000000...  \n",
       "3         5.4        2.45  <pysal.cg.shapes.Polygon object at 0x000000000...  \n",
       "4         6.4        3.03  <pysal.cg.shapes.Polygon object at 0x000000000...  \n",
       "\n",
       "[5 rows x 27 columns]"
      ]
     },
     "execution_count": 66,
     "metadata": {},
     "output_type": "execute_result"
    }
   ],
   "source": [
    "data_table.head()"
   ]
  },
  {
   "cell_type": "markdown",
   "metadata": {},
   "source": [
    "The `read_files` function only works on shapefile/dbf pairs. If you need to read in data using CSVs, use pandas directly:"
   ]
  },
  {
   "cell_type": "markdown",
   "metadata": {},
   "source": [
    "The nice thing about working with pandas dataframes is that they have very powerful baked-in support for relational-style queries. By this, I mean that it is very easy to find things like:\n",
    "\n",
    "The number of counties in each state:"
   ]
  },
  {
   "cell_type": "code",
   "execution_count": 67,
   "metadata": {},
   "outputs": [
    {
     "data": {
      "text/plain": [
       "NAME_2\n",
       "Bahawalpur          3\n",
       "Bannu               2\n",
       "Dera Ghazi Khan     4\n",
       "Dera Ismail Khan    2\n",
       "F.A.T.A.            7\n",
       "Faisalabad          3\n",
       "Gujranwala          5\n",
       "Hazara              5\n",
       "Hyderabad           5\n",
       "Kalat               6\n",
       "Karachi             5\n",
       "Kohat               3\n",
       "Lahore              4\n",
       "Larkana             3\n",
       "Makran              3\n",
       "Malakand            4\n",
       "Mardan              3\n",
       "Mirpur Khas         3\n",
       "Multan              6\n",
       "Nasirabad           4\n",
       "Northern Areas      1\n",
       "Peshawar            3\n",
       "Quetta              3\n",
       "Rawalpindi          4\n",
       "Sargodha            4\n",
       "Sibi                3\n",
       "Sukkur              5\n",
       "Zhob                4\n",
       "dtype: int64"
      ]
     },
     "execution_count": 67,
     "metadata": {},
     "output_type": "execute_result"
    }
   ],
   "source": [
    "data_table.groupby('NAME_2').size()"
   ]
  },
  {
   "cell_type": "markdown",
   "metadata": {},
   "source": [
    "Or, to get the rows of the table that are in FATA, we can use the `query` function of the dataframe:"
   ]
  },
  {
   "cell_type": "code",
   "execution_count": 68,
   "metadata": {},
   "outputs": [
    {
     "data": {
      "text/html": [
       "<div>\n",
       "<style>\n",
       "    .dataframe thead tr:only-child th {\n",
       "        text-align: right;\n",
       "    }\n",
       "\n",
       "    .dataframe thead th {\n",
       "        text-align: left;\n",
       "    }\n",
       "\n",
       "    .dataframe tbody tr th {\n",
       "        vertical-align: top;\n",
       "    }\n",
       "</style>\n",
       "<table border=\"1\" class=\"dataframe\">\n",
       "  <thead>\n",
       "    <tr style=\"text-align: right;\">\n",
       "      <th></th>\n",
       "      <th>ISO</th>\n",
       "      <th>NAME_1</th>\n",
       "      <th>NAME_2</th>\n",
       "      <th>NAME_3</th>\n",
       "      <th>OBJECTID</th>\n",
       "      <th>Area</th>\n",
       "      <th>F1981__pop</th>\n",
       "      <th>F1998__pop</th>\n",
       "      <th>Male</th>\n",
       "      <th>Female</th>\n",
       "      <th>...</th>\n",
       "      <th>Area_1</th>\n",
       "      <th>F1981__p_1</th>\n",
       "      <th>F1998__p_1</th>\n",
       "      <th>Male_1</th>\n",
       "      <th>Female_1</th>\n",
       "      <th>Sex_rati_1</th>\n",
       "      <th>Pop_Sq_K_1</th>\n",
       "      <th>Ave_H_Hol1</th>\n",
       "      <th>F1981_98_1</th>\n",
       "      <th>geometry</th>\n",
       "    </tr>\n",
       "  </thead>\n",
       "  <tbody>\n",
       "    <tr>\n",
       "      <th>23</th>\n",
       "      <td>PAK</td>\n",
       "      <td>F.A.T.A.</td>\n",
       "      <td>F.A.T.A.</td>\n",
       "      <td>Bajaur</td>\n",
       "      <td>7</td>\n",
       "      <td>1290</td>\n",
       "      <td>595227</td>\n",
       "      <td>305137</td>\n",
       "      <td>289206</td>\n",
       "      <td>290090</td>\n",
       "      <td>...</td>\n",
       "      <td>1290</td>\n",
       "      <td>595227</td>\n",
       "      <td>305137</td>\n",
       "      <td>289206</td>\n",
       "      <td>290090</td>\n",
       "      <td>105.2</td>\n",
       "      <td>461.4</td>\n",
       "      <td>9.1</td>\n",
       "      <td>4.33</td>\n",
       "      <td>&lt;pysal.cg.shapes.Polygon object at 0x000000000...</td>\n",
       "    </tr>\n",
       "    <tr>\n",
       "      <th>24</th>\n",
       "      <td>PAK</td>\n",
       "      <td>F.A.T.A.</td>\n",
       "      <td>F.A.T.A.</td>\n",
       "      <td>Khyber</td>\n",
       "      <td>49</td>\n",
       "      <td>2576</td>\n",
       "      <td>546730</td>\n",
       "      <td>284602</td>\n",
       "      <td>284256</td>\n",
       "      <td>262128</td>\n",
       "      <td>...</td>\n",
       "      <td>2576</td>\n",
       "      <td>546730</td>\n",
       "      <td>284602</td>\n",
       "      <td>284256</td>\n",
       "      <td>262128</td>\n",
       "      <td>108.6</td>\n",
       "      <td>212.2</td>\n",
       "      <td>10.0</td>\n",
       "      <td>3.92</td>\n",
       "      <td>&lt;pysal.cg.shapes.Polygon object at 0x000000000...</td>\n",
       "    </tr>\n",
       "    <tr>\n",
       "      <th>25</th>\n",
       "      <td>PAK</td>\n",
       "      <td>F.A.T.A.</td>\n",
       "      <td>F.A.T.A.</td>\n",
       "      <td>Kurram</td>\n",
       "      <td>53</td>\n",
       "      <td>3380</td>\n",
       "      <td>448310</td>\n",
       "      <td>229634</td>\n",
       "      <td>294362</td>\n",
       "      <td>218676</td>\n",
       "      <td>...</td>\n",
       "      <td>3380</td>\n",
       "      <td>448310</td>\n",
       "      <td>229634</td>\n",
       "      <td>294362</td>\n",
       "      <td>218676</td>\n",
       "      <td>105.0</td>\n",
       "      <td>132.6</td>\n",
       "      <td>10.6</td>\n",
       "      <td>2.50</td>\n",
       "      <td>&lt;pysal.cg.shapes.Polygon object at 0x000000000...</td>\n",
       "    </tr>\n",
       "    <tr>\n",
       "      <th>26</th>\n",
       "      <td>PAK</td>\n",
       "      <td>F.A.T.A.</td>\n",
       "      <td>F.A.T.A.</td>\n",
       "      <td>Mohmand</td>\n",
       "      <td>68</td>\n",
       "      <td>2296</td>\n",
       "      <td>334453</td>\n",
       "      <td>175404</td>\n",
       "      <td>163933</td>\n",
       "      <td>159049</td>\n",
       "      <td>...</td>\n",
       "      <td>2296</td>\n",
       "      <td>334453</td>\n",
       "      <td>175404</td>\n",
       "      <td>163933</td>\n",
       "      <td>159049</td>\n",
       "      <td>110.3</td>\n",
       "      <td>145.7</td>\n",
       "      <td>9.0</td>\n",
       "      <td>4.28</td>\n",
       "      <td>&lt;pysal.cg.shapes.Polygon object at 0x000000000...</td>\n",
       "    </tr>\n",
       "    <tr>\n",
       "      <th>27</th>\n",
       "      <td>PAK</td>\n",
       "      <td>F.A.T.A.</td>\n",
       "      <td>F.A.T.A.</td>\n",
       "      <td>N. Waziristan</td>\n",
       "      <td>72</td>\n",
       "      <td>4707</td>\n",
       "      <td>361246</td>\n",
       "      <td>192432</td>\n",
       "      <td>238910</td>\n",
       "      <td>168814</td>\n",
       "      <td>...</td>\n",
       "      <td>4707</td>\n",
       "      <td>361246</td>\n",
       "      <td>192432</td>\n",
       "      <td>238910</td>\n",
       "      <td>168814</td>\n",
       "      <td>114.0</td>\n",
       "      <td>76.7</td>\n",
       "      <td>9.1</td>\n",
       "      <td>2.46</td>\n",
       "      <td>&lt;pysal.cg.shapes.Polygon object at 0x000000000...</td>\n",
       "    </tr>\n",
       "    <tr>\n",
       "      <th>28</th>\n",
       "      <td>PAK</td>\n",
       "      <td>F.A.T.A.</td>\n",
       "      <td>F.A.T.A.</td>\n",
       "      <td>Orakzai</td>\n",
       "      <td>79</td>\n",
       "      <td>1538</td>\n",
       "      <td>225441</td>\n",
       "      <td>112766</td>\n",
       "      <td>358751</td>\n",
       "      <td>112675</td>\n",
       "      <td>...</td>\n",
       "      <td>1538</td>\n",
       "      <td>225441</td>\n",
       "      <td>112766</td>\n",
       "      <td>358751</td>\n",
       "      <td>112675</td>\n",
       "      <td>100.1</td>\n",
       "      <td>146.6</td>\n",
       "      <td>8.8</td>\n",
       "      <td>-2.69</td>\n",
       "      <td>&lt;pysal.cg.shapes.Polygon object at 0x000000000...</td>\n",
       "    </tr>\n",
       "    <tr>\n",
       "      <th>29</th>\n",
       "      <td>PAK</td>\n",
       "      <td>F.A.T.A.</td>\n",
       "      <td>F.A.T.A.</td>\n",
       "      <td>S. Waziristan</td>\n",
       "      <td>88</td>\n",
       "      <td>6620</td>\n",
       "      <td>429841</td>\n",
       "      <td>231080</td>\n",
       "      <td>309454</td>\n",
       "      <td>198761</td>\n",
       "      <td>...</td>\n",
       "      <td>6620</td>\n",
       "      <td>429841</td>\n",
       "      <td>231080</td>\n",
       "      <td>309454</td>\n",
       "      <td>198761</td>\n",
       "      <td>116.3</td>\n",
       "      <td>64.9</td>\n",
       "      <td>8.5</td>\n",
       "      <td>1.95</td>\n",
       "      <td>&lt;pysal.cg.shapes.Polygon object at 0x000000000...</td>\n",
       "    </tr>\n",
       "  </tbody>\n",
       "</table>\n",
       "<p>7 rows × 27 columns</p>\n",
       "</div>"
      ],
      "text/plain": [
       "    ISO    NAME_1    NAME_2         NAME_3  OBJECTID  Area  F1981__pop  \\\n",
       "23  PAK  F.A.T.A.  F.A.T.A.         Bajaur         7  1290      595227   \n",
       "24  PAK  F.A.T.A.  F.A.T.A.         Khyber        49  2576      546730   \n",
       "25  PAK  F.A.T.A.  F.A.T.A.         Kurram        53  3380      448310   \n",
       "26  PAK  F.A.T.A.  F.A.T.A.        Mohmand        68  2296      334453   \n",
       "27  PAK  F.A.T.A.  F.A.T.A.  N. Waziristan        72  4707      361246   \n",
       "28  PAK  F.A.T.A.  F.A.T.A.        Orakzai        79  1538      225441   \n",
       "29  PAK  F.A.T.A.  F.A.T.A.  S. Waziristan        88  6620      429841   \n",
       "\n",
       "    F1998__pop    Male  Female  \\\n",
       "23      305137  289206  290090   \n",
       "24      284602  284256  262128   \n",
       "25      229634  294362  218676   \n",
       "26      175404  163933  159049   \n",
       "27      192432  238910  168814   \n",
       "28      112766  358751  112675   \n",
       "29      231080  309454  198761   \n",
       "\n",
       "                          ...                          Area_1  F1981__p_1  \\\n",
       "23                        ...                            1290      595227   \n",
       "24                        ...                            2576      546730   \n",
       "25                        ...                            3380      448310   \n",
       "26                        ...                            2296      334453   \n",
       "27                        ...                            4707      361246   \n",
       "28                        ...                            1538      225441   \n",
       "29                        ...                            6620      429841   \n",
       "\n",
       "    F1998__p_1  Male_1  Female_1  Sex_rati_1 Pop_Sq_K_1  Ave_H_Hol1  \\\n",
       "23      305137  289206    290090       105.2      461.4         9.1   \n",
       "24      284602  284256    262128       108.6      212.2        10.0   \n",
       "25      229634  294362    218676       105.0      132.6        10.6   \n",
       "26      175404  163933    159049       110.3      145.7         9.0   \n",
       "27      192432  238910    168814       114.0       76.7         9.1   \n",
       "28      112766  358751    112675       100.1      146.6         8.8   \n",
       "29      231080  309454    198761       116.3       64.9         8.5   \n",
       "\n",
       "    F1981_98_1                                           geometry  \n",
       "23        4.33  <pysal.cg.shapes.Polygon object at 0x000000000...  \n",
       "24        3.92  <pysal.cg.shapes.Polygon object at 0x000000000...  \n",
       "25        2.50  <pysal.cg.shapes.Polygon object at 0x000000000...  \n",
       "26        4.28  <pysal.cg.shapes.Polygon object at 0x000000000...  \n",
       "27        2.46  <pysal.cg.shapes.Polygon object at 0x000000000...  \n",
       "28       -2.69  <pysal.cg.shapes.Polygon object at 0x000000000...  \n",
       "29        1.95  <pysal.cg.shapes.Polygon object at 0x000000000...  \n",
       "\n",
       "[7 rows x 27 columns]"
      ]
     },
     "execution_count": 68,
     "metadata": {},
     "output_type": "execute_result"
    }
   ],
   "source": [
    "data_table.query('NAME_2 == \"F.A.T.A.\"')"
   ]
  },
  {
   "cell_type": "markdown",
   "metadata": {},
   "source": [
    "Behind the scenes, this uses a fast vectorized library, `numexpr`, to essentially do the following. \n",
    "\n",
    "First, compare each row's `NAME_2` column to `'F.A.T.A.'` and return `True` if the row matches:"
   ]
  },
  {
   "cell_type": "code",
   "execution_count": 69,
   "metadata": {},
   "outputs": [
    {
     "data": {
      "text/plain": [
       "0      False\n",
       "1      False\n",
       "2      False\n",
       "3      False\n",
       "4      False\n",
       "5      False\n",
       "6      False\n",
       "7      False\n",
       "8      False\n",
       "9      False\n",
       "10     False\n",
       "11     False\n",
       "12     False\n",
       "13     False\n",
       "14     False\n",
       "15     False\n",
       "16     False\n",
       "17     False\n",
       "18     False\n",
       "19     False\n",
       "20     False\n",
       "21     False\n",
       "22     False\n",
       "23      True\n",
       "24      True\n",
       "25      True\n",
       "26      True\n",
       "27      True\n",
       "28      True\n",
       "29      True\n",
       "       ...  \n",
       "77     False\n",
       "78     False\n",
       "79     False\n",
       "80     False\n",
       "81     False\n",
       "82     False\n",
       "83     False\n",
       "84     False\n",
       "85     False\n",
       "86     False\n",
       "87     False\n",
       "88     False\n",
       "89     False\n",
       "90     False\n",
       "91     False\n",
       "92     False\n",
       "93     False\n",
       "94     False\n",
       "95     False\n",
       "96     False\n",
       "97     False\n",
       "98     False\n",
       "99     False\n",
       "100    False\n",
       "101    False\n",
       "102    False\n",
       "103    False\n",
       "104    False\n",
       "105    False\n",
       "106    False\n",
       "Name: NAME_2, Length: 107, dtype: bool"
      ]
     },
     "execution_count": 69,
     "metadata": {},
     "output_type": "execute_result"
    }
   ],
   "source": [
    "data_table.NAME_2 == 'F.A.T.A.'"
   ]
  },
  {
   "cell_type": "markdown",
   "metadata": {},
   "source": [
    "Then, use that to filter out rows where the condition is true:"
   ]
  }
 ],
 "metadata": {
  "celltoolbar": "Edit Metadata",
  "kernelspec": {
   "display_name": "Python 2",
   "language": "python",
   "name": "python2"
  },
  "language_info": {
   "codemirror_mode": {
    "name": "ipython",
    "version": 2
   },
   "file_extension": ".py",
   "mimetype": "text/x-python",
   "name": "python",
   "nbconvert_exporter": "python",
   "pygments_lexer": "ipython2",
   "version": "2.7.13"
  },
  "widgets": {
   "state": {},
   "version": "1.1.2"
  }
 },
 "nbformat": 4,
 "nbformat_minor": 1
}
